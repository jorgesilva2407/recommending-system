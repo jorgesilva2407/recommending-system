{
 "cells": [
  {
   "cell_type": "code",
   "execution_count": 1,
   "metadata": {},
   "outputs": [],
   "source": [
    "import pandas as pd"
   ]
  },
  {
   "cell_type": "code",
   "execution_count": 2,
   "metadata": {},
   "outputs": [
    {
     "data": {
      "text/html": [
       "<div>\n",
       "<style scoped>\n",
       "    .dataframe tbody tr th:only-of-type {\n",
       "        vertical-align: middle;\n",
       "    }\n",
       "\n",
       "    .dataframe tbody tr th {\n",
       "        vertical-align: top;\n",
       "    }\n",
       "\n",
       "    .dataframe thead th {\n",
       "        text-align: right;\n",
       "    }\n",
       "</style>\n",
       "<table border=\"1\" class=\"dataframe\">\n",
       "  <thead>\n",
       "    <tr style=\"text-align: right;\">\n",
       "      <th></th>\n",
       "      <th>artist_name</th>\n",
       "      <th>track_name</th>\n",
       "    </tr>\n",
       "  </thead>\n",
       "  <tbody>\n",
       "    <tr>\n",
       "      <th>0</th>\n",
       "      <td>Sam Hunt</td>\n",
       "      <td>Bottle It Up - Acoustic Mixtape</td>\n",
       "    </tr>\n",
       "    <tr>\n",
       "      <th>1</th>\n",
       "      <td>Ryan Gosling</td>\n",
       "      <td>City Of Stars - From \"La La Land\" Soundtrack</td>\n",
       "    </tr>\n",
       "    <tr>\n",
       "      <th>2</th>\n",
       "      <td>Knife Party</td>\n",
       "      <td>Bonfire</td>\n",
       "    </tr>\n",
       "    <tr>\n",
       "      <th>3</th>\n",
       "      <td>Avenged Sevenfold</td>\n",
       "      <td>Welcome to the Family</td>\n",
       "    </tr>\n",
       "    <tr>\n",
       "      <th>4</th>\n",
       "      <td>Cheat Codes</td>\n",
       "      <td>Follow You</td>\n",
       "    </tr>\n",
       "    <tr>\n",
       "      <th>...</th>\n",
       "      <td>...</td>\n",
       "      <td>...</td>\n",
       "    </tr>\n",
       "    <tr>\n",
       "      <th>6969</th>\n",
       "      <td>Pink Floyd</td>\n",
       "      <td>Hey You</td>\n",
       "    </tr>\n",
       "    <tr>\n",
       "      <th>6970</th>\n",
       "      <td>Lifehouse</td>\n",
       "      <td>Halfway Gone</td>\n",
       "    </tr>\n",
       "    <tr>\n",
       "      <th>6971</th>\n",
       "      <td>Eminem</td>\n",
       "      <td>Won't Back Down</td>\n",
       "    </tr>\n",
       "    <tr>\n",
       "      <th>6972</th>\n",
       "      <td>Miley Cyrus</td>\n",
       "      <td>4x4</td>\n",
       "    </tr>\n",
       "    <tr>\n",
       "      <th>6973</th>\n",
       "      <td>San Holo</td>\n",
       "      <td>We Rise</td>\n",
       "    </tr>\n",
       "  </tbody>\n",
       "</table>\n",
       "<p>6974 rows × 2 columns</p>\n",
       "</div>"
      ],
      "text/plain": [
       "            artist_name                                    track_name\n",
       "0              Sam Hunt               Bottle It Up - Acoustic Mixtape\n",
       "1          Ryan Gosling  City Of Stars - From \"La La Land\" Soundtrack\n",
       "2           Knife Party                                       Bonfire\n",
       "3     Avenged Sevenfold                         Welcome to the Family\n",
       "4           Cheat Codes                                    Follow You\n",
       "...                 ...                                           ...\n",
       "6969         Pink Floyd                                       Hey You\n",
       "6970          Lifehouse                                  Halfway Gone\n",
       "6971             Eminem                               Won't Back Down\n",
       "6972        Miley Cyrus                                           4x4\n",
       "6973           San Holo                                       We Rise\n",
       "\n",
       "[6974 rows x 2 columns]"
      ]
     },
     "execution_count": 2,
     "metadata": {},
     "output_type": "execute_result"
    }
   ],
   "source": [
    "df = pd.read_csv('./2023_spotify_songs.csv')\n",
    "df"
   ]
  },
  {
   "cell_type": "code",
   "execution_count": 13,
   "metadata": {},
   "outputs": [
    {
     "data": {
      "text/plain": [
       "track_name\n",
       "90210              2\n",
       "99 Red Balloons    2\n",
       "About A Girl       2\n",
       "Addicted           3\n",
       "Afterlife          2\n",
       "                  ..\n",
       "Young              2\n",
       "Your Body          2\n",
       "Your Song          2\n",
       "Youth              2\n",
       "Zero               2\n",
       "Length: 276, dtype: int64"
      ]
     },
     "execution_count": 13,
     "metadata": {},
     "output_type": "execute_result"
    }
   ],
   "source": [
    "track_counts = df.groupby('track_name').size()\n",
    "tracks_more_than_one = track_counts[track_counts > 1]\n",
    "tracks_more_than_one"
   ]
  },
  {
   "cell_type": "code",
   "execution_count": null,
   "metadata": {},
   "outputs": [],
   "source": []
  }
 ],
 "metadata": {
  "kernelspec": {
   "display_name": "cloud",
   "language": "python",
   "name": "python3"
  },
  "language_info": {
   "codemirror_mode": {
    "name": "ipython",
    "version": 3
   },
   "file_extension": ".py",
   "mimetype": "text/x-python",
   "name": "python",
   "nbconvert_exporter": "python",
   "pygments_lexer": "ipython3",
   "version": "3.9.21"
  }
 },
 "nbformat": 4,
 "nbformat_minor": 2
}
